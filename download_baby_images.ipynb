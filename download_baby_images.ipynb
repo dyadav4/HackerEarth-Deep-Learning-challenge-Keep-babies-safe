{
 "cells": [
  {
   "cell_type": "code",
   "execution_count": 1,
   "metadata": {},
   "outputs": [],
   "source": [
    "from selenium import webdriver\n",
    "import os\n",
    "import urllib.request\n",
    "import time"
   ]
  },
  {
   "cell_type": "code",
   "execution_count": 2,
   "metadata": {},
   "outputs": [],
   "source": [
    "path = '/Users/dharamvir/Downloads/chromedriver'"
   ]
  },
  {
   "cell_type": "code",
   "execution_count": 3,
   "metadata": {},
   "outputs": [],
   "source": [
    "# driver = webdriver.Chrome(path)\n",
    "# driver.get(\"https://www.google.com/\")\n",
    "prefix = \"https://www.google.com/search?q=\"\n",
    "postfix = \"&rlz=1C5CHFA_enUS812US812&source=lnms&tbm=isch&sa=X&ved=2ahUKEwjT14_o1__rAhVIUt8KHSlRBBcQ_AUoAnoECA8QBA&biw=1164&bih=562\""
   ]
  },
  {
   "cell_type": "code",
   "execution_count": 15,
   "metadata": {},
   "outputs": [],
   "source": [
    "train_data = \"/Users/dharamvir/Documents/algo/projects/keep_babies_safe/training_data/products/\"\n",
    "def main():\n",
    "    if not os.path.exists(train_data):\n",
    "        os.mkdir(train_data)\n",
    "        download_images()\n",
    "    else:\n",
    "        download_images()\n",
    "        \n",
    "def download_images():\n",
    "    search_term = input(\"enter the search term\")\n",
    "    num_images = int(input(\"number of images\"))\n",
    "    \n",
    "    search_url = prefix+search_term+postfix\n",
    "    driver = webdriver.Chrome(path)\n",
    "    driver.get(search_url)\n",
    "    \n",
    "    value = 0\n",
    "    for i in range(30):\n",
    "        driver.execute_script(\"scrollBy(\"+str(value)+\",+1000);\")\n",
    "        value+=1000\n",
    "        time.sleep(1)\n",
    "        \n",
    "    elem = driver.find_element_by_id('islmp')\n",
    "    sub = elem.find_elements_by_tag_name('img')\n",
    "    \n",
    "    for j,i in enumerate(sub):\n",
    "        if j<num_images:\n",
    "            src=i.get_attribute('src')\n",
    "            try:\n",
    "                if src != None:\n",
    "                    src = str(src)\n",
    "                    urllib.request.urlretrieve(src,os.path.join(train_data,search_term+str(j)+'.jpg'))\n",
    "                else:\n",
    "                    raise TypeError\n",
    "            except Exception as e:\n",
    "                print('fail')\n",
    "                \n",
    "    driver.close()"
   ]
  },
  {
   "cell_type": "code",
   "execution_count": 16,
   "metadata": {},
   "outputs": [
    {
     "name": "stdout",
     "output_type": "stream",
     "text": [
      "enter the search termbaby product\n",
      "number of images1000\n",
      "fail\n",
      "fail\n",
      "fail\n",
      "fail\n",
      "fail\n",
      "fail\n",
      "fail\n",
      "fail\n",
      "fail\n",
      "fail\n",
      "fail\n",
      "fail\n",
      "fail\n",
      "fail\n",
      "fail\n",
      "fail\n",
      "fail\n",
      "fail\n",
      "fail\n",
      "fail\n",
      "fail\n",
      "fail\n",
      "fail\n"
     ]
    }
   ],
   "source": [
    "if __name__ == \"__main__\":\n",
    "    main()"
   ]
  },
  {
   "cell_type": "code",
   "execution_count": null,
   "metadata": {},
   "outputs": [],
   "source": []
  }
 ],
 "metadata": {
  "kernelspec": {
   "display_name": "Python 3",
   "language": "python",
   "name": "python3"
  },
  "language_info": {
   "codemirror_mode": {
    "name": "ipython",
    "version": 3
   },
   "file_extension": ".py",
   "mimetype": "text/x-python",
   "name": "python",
   "nbconvert_exporter": "python",
   "pygments_lexer": "ipython3",
   "version": "3.7.3"
  }
 },
 "nbformat": 4,
 "nbformat_minor": 2
}
